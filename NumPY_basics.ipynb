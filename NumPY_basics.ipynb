{
  "nbformat": 4,
  "nbformat_minor": 0,
  "metadata": {
    "colab": {
      "name": "NumPY basics",
      "provenance": [],
      "authorship_tag": "ABX9TyPMOjC9zeFCc0ntIxFtQg7g",
      "include_colab_link": true
    },
    "kernelspec": {
      "name": "python3",
      "display_name": "Python 3"
    },
    "language_info": {
      "name": "python"
    }
  },
  "cells": [
    {
      "cell_type": "markdown",
      "metadata": {
        "id": "view-in-github",
        "colab_type": "text"
      },
      "source": [
        "<a href=\"https://colab.research.google.com/github/143biswajit/Extra-assignment/blob/main/NumPY_basics.ipynb\" target=\"_parent\"><img src=\"https://colab.research.google.com/assets/colab-badge.svg\" alt=\"Open In Colab\"/></a>"
      ]
    },
    {
      "cell_type": "markdown",
      "source": [
        "BASICS OF NUMPY"
      ],
      "metadata": {
        "id": "RCp5g1SEm_jo"
      }
    },
    {
      "cell_type": "code",
      "source": [
        "# load the numpy\n",
        "import numpy as np"
      ],
      "metadata": {
        "id": "Txwq_UpOnNBD"
      },
      "execution_count": 1,
      "outputs": []
    },
    {
      "cell_type": "markdown",
      "source": [
        "Array manipulation\n",
        "    TRANSPOSE ARRAY"
      ],
      "metadata": {
        "id": "YO-BgxY8nnuQ"
      }
    },
    {
      "cell_type": "code",
      "source": [
        "\n",
        "#creat 2 d array\n",
        "bro=np.array(np.random.randint(15,60,(5,3)))\n",
        "print(f\"the defind array is \\n{bro}\")\n",
        "print(f\"\\n the shape of the array is {bro.shape}\")\n"
      ],
      "metadata": {
        "colab": {
          "base_uri": "https://localhost:8080/"
        },
        "id": "BO-G9Bl-nwsd",
        "outputId": "c9c80a61-316d-4bf9-b9c8-25fc844f2a5d"
      },
      "execution_count": 3,
      "outputs": [
        {
          "output_type": "stream",
          "name": "stdout",
          "text": [
            "the defind array is \n",
            "[[42 44 57]\n",
            " [40 31 49]\n",
            " [56 49 42]\n",
            " [42 31 52]\n",
            " [43 53 30]]\n",
            "\n",
            " the shape of the array is (5, 3)\n"
          ]
        }
      ]
    },
    {
      "cell_type": "code",
      "source": [
        "# transpose array in another martrix\n",
        "ajit_bro=np.transpose(bro)\n",
        "print(f\" the transpose of the array is \\n{ajit_bro}\")\n",
        "print(\" \\n the shape of the array is {ajit_bro}\")\n"
      ],
      "metadata": {
        "colab": {
          "base_uri": "https://localhost:8080/"
        },
        "id": "QOlAZ6lTsxzk",
        "outputId": "7b4bd12a-7567-4d03-85d7-6da90d09c3c5"
      },
      "execution_count": 4,
      "outputs": [
        {
          "output_type": "stream",
          "name": "stdout",
          "text": [
            " the transpose of the array is \n",
            "[[42 40 56 42 43]\n",
            " [44 31 49 31 53]\n",
            " [57 49 42 52 30]]\n",
            " \n",
            " the shape of the array is {ajit_bro}\n"
          ]
        }
      ]
    }
  ]
}