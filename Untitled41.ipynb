{
  "nbformat": 4,
  "nbformat_minor": 0,
  "metadata": {
    "colab": {
      "name": "Untitled41.ipynb",
      "provenance": [],
      "authorship_tag": "ABX9TyPT8Jr/AaMz9taaG/rWX9vm",
      "include_colab_link": true
    },
    "kernelspec": {
      "name": "python3",
      "display_name": "Python 3"
    },
    "language_info": {
      "name": "python"
    }
  },
  "cells": [
    {
      "cell_type": "markdown",
      "metadata": {
        "id": "view-in-github",
        "colab_type": "text"
      },
      "source": [
        "<a href=\"https://colab.research.google.com/github/143biswajit/Extra-assignment/blob/main/Untitled41.ipynb\" target=\"_parent\"><img src=\"https://colab.research.google.com/assets/colab-badge.svg\" alt=\"Open In Colab\"/></a>"
      ]
    },
    {
      "cell_type": "code",
      "execution_count": 1,
      "metadata": {
        "id": "lyw8nmqTPS5j"
      },
      "outputs": [],
      "source": [
        "# Dictionary of house area and house prices of 6 houses in \n",
        "house_area_price_dict = {1056 : 39, 2600 : 120 , 1520 : 95, 1200 : 50, 2700 : 200, 1100 : 40}"
      ]
    },
    {
      "cell_type": "code",
      "source": [
        "# Create a list of house areas\n",
        "house_areas = list(house_area_price_dict.keys())\n",
        "\n",
        "\n",
        "# Use list comprehension to store the predicted house prices in a list\n",
        "predicted_house_prices = [0.05*area + 10 for area in house_areas]\n",
        "\n",
        "# Print the list of predicted house prices\n",
        "print(predicted_house_prices)"
      ],
      "metadata": {
        "colab": {
          "base_uri": "https://localhost:8080/"
        },
        "id": "IHIJoZ2JPZp2",
        "outputId": "20b51e13-4855-4170-c460-49225b695854"
      },
      "execution_count": 2,
      "outputs": [
        {
          "output_type": "stream",
          "name": "stdout",
          "text": [
            "[62.800000000000004, 140.0, 86.0, 70.0, 145.0, 65.0]\n"
          ]
        }
      ]
    },
    {
      "cell_type": "code",
      "source": [
        " List of actual house prices\n",
        "actual_prices = list(house_area_price_dict.values())\n",
        "\n",
        "# Create a list of tuples \n",
        "price_tuples = list(zip(actual_prices,predicted_house_prices))\n",
        "\n",
        "# List of squared differences between each element of the two lists\n",
        "squared_difference_in_prices = [(predicted_price - actual_price)**2 for actual_price,predicted_price in price_tuples]\n",
        "print(squared_difference_in_prices)"
      ],
      "metadata": {
        "id": "cES9D-3hPj11",
        "outputId": "37218ea9-409e-4022-84b8-c72f9b2be663",
        "colab": {
          "base_uri": "https://localhost:8080/",
          "height": 130
        }
      },
      "execution_count": 3,
      "outputs": [
        {
          "output_type": "error",
          "ename": "SyntaxError",
          "evalue": "ignored",
          "traceback": [
            "\u001b[0;36m  File \u001b[0;32m\"<ipython-input-3-319f5a4593bb>\"\u001b[0;36m, line \u001b[0;32m1\u001b[0m\n\u001b[0;31m    List of actual house prices\u001b[0m\n\u001b[0m          ^\u001b[0m\n\u001b[0;31mSyntaxError\u001b[0m\u001b[0;31m:\u001b[0m invalid syntax\n"
          ]
        }
      ]
    }
  ]
}