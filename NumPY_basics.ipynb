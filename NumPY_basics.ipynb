{
  "nbformat": 4,
  "nbformat_minor": 0,
  "metadata": {
    "colab": {
      "name": "NumPY basics",
      "provenance": [],
      "authorship_tag": "ABX9TyM2IzAjT+tTFLFktoVuwpbB",
      "include_colab_link": true
    },
    "kernelspec": {
      "name": "python3",
      "display_name": "Python 3"
    },
    "language_info": {
      "name": "python"
    }
  },
  "cells": [
    {
      "cell_type": "markdown",
      "metadata": {
        "id": "view-in-github",
        "colab_type": "text"
      },
      "source": [
        "<a href=\"https://colab.research.google.com/github/143biswajit/Extra-assignment/blob/main/NumPY_basics.ipynb\" target=\"_parent\"><img src=\"https://colab.research.google.com/assets/colab-badge.svg\" alt=\"Open In Colab\"/></a>"
      ]
    },
    {
      "cell_type": "markdown",
      "source": [
        "BASICS OF NUMPY"
      ],
      "metadata": {
        "id": "RCp5g1SEm_jo"
      }
    },
    {
      "cell_type": "code",
      "source": [
        "# load the numpy\n",
        "import numpy as np"
      ],
      "metadata": {
        "id": "Txwq_UpOnNBD"
      },
      "execution_count": 2,
      "outputs": []
    },
    {
      "cell_type": "markdown",
      "source": [
        "Array manipulation\n",
        "    TRANSPOSE ARRAY"
      ],
      "metadata": {
        "id": "YO-BgxY8nnuQ"
      }
    },
    {
      "cell_type": "code",
      "source": [
        "\n",
        "#creat 2 d array\n",
        "bro=np.array(np.random.randint(15,60,(5,3)))\n",
        "print(f\"the defind array is \\n{bro}\")\n",
        "print(f\"\\n the shape of the array is {bro.shape}\")\n"
      ],
      "metadata": {
        "colab": {
          "base_uri": "https://localhost:8080/"
        },
        "id": "BO-G9Bl-nwsd",
        "outputId": "587dc66f-9fe2-4dd3-cd53-95fe71ac088a"
      },
      "execution_count": 3,
      "outputs": [
        {
          "output_type": "stream",
          "name": "stdout",
          "text": [
            "the defind array is \n",
            "[[59 51 58]\n",
            " [45 37 37]\n",
            " [32 55 49]\n",
            " [56 36 17]\n",
            " [17 30 55]]\n",
            "\n",
            " the shape of the array is (5, 3)\n"
          ]
        }
      ]
    },
    {
      "cell_type": "code",
      "source": [
        "# transpose array in another martrix\n",
        "ajit_bro=np.transpose(bro)\n",
        "print(f\" the transpose of the array is \\n{ajit_bro}\")\n",
        "print(\" \\n the shape of the array is {ajit_bro}\")\n"
      ],
      "metadata": {
        "colab": {
          "base_uri": "https://localhost:8080/"
        },
        "id": "QOlAZ6lTsxzk",
        "outputId": "dbc7bd5a-0c85-4d2d-89bf-013a0d55c302"
      },
      "execution_count": 4,
      "outputs": [
        {
          "output_type": "stream",
          "name": "stdout",
          "text": [
            " the transpose of the array is \n",
            "[[59 45 32 56 17]\n",
            " [51 37 55 36 30]\n",
            " [58 37 49 17 55]]\n",
            " \n",
            " the shape of the array is {ajit_bro}\n"
          ]
        }
      ]
    },
    {
      "cell_type": "markdown",
      "source": [
        "np.reshape(shape)"
      ],
      "metadata": {
        "id": "wpwQtWUkrKbB"
      }
    },
    {
      "cell_type": "code",
      "source": [
        "# creat a two dimentional array\n",
        "boss_=np.array(np.random.randint(10,45,(3,8)))\n",
        "print(f\"the defined array is \\n{boss_}\")\n",
        "print(f\"\\n the shape of the array is {boss_.shape}\")"
      ],
      "metadata": {
        "colab": {
          "base_uri": "https://localhost:8080/"
        },
        "id": "AeNhhU8srHz3",
        "outputId": "5db5fbf3-ecf0-42b3-ccd9-e764f21e9d8d"
      },
      "execution_count": 5,
      "outputs": [
        {
          "output_type": "stream",
          "name": "stdout",
          "text": [
            "the defined array is \n",
            "[[15 31 19 39 43 23 23 35]\n",
            " [32 23 12 18 37 42 27 37]\n",
            " [42 37 37 37 16 41 23 13]]\n",
            "\n",
            " the shape of the array is (3, 8)\n"
          ]
        }
      ]
    },
    {
      "cell_type": "code",
      "source": [
        "# now we can reshape  this to 1d ,2d,3d array\n",
        "new_shape= (2,6,2)\n",
        "reshaped_boss_=np.reshape(boss_,new_shape)\n",
        "print(f\"the reshaped array is \\n{reshaped_boss_}\")\n",
        "print(f\"\\n the shape of the array is {reshaped_boss_.shape}\")"
      ],
      "metadata": {
        "colab": {
          "base_uri": "https://localhost:8080/"
        },
        "id": "HL_2SW0MxHlN",
        "outputId": "24917c76-93b7-456f-f4ec-f5ac2385d731"
      },
      "execution_count": 6,
      "outputs": [
        {
          "output_type": "stream",
          "name": "stdout",
          "text": [
            "the reshaped array is \n",
            "[[[15 31]\n",
            "  [19 39]\n",
            "  [43 23]\n",
            "  [23 35]\n",
            "  [32 23]\n",
            "  [12 18]]\n",
            "\n",
            " [[37 42]\n",
            "  [27 37]\n",
            "  [42 37]\n",
            "  [37 37]\n",
            "  [16 41]\n",
            "  [23 13]]]\n",
            "\n",
            " the shape of the array is (2, 6, 2)\n"
          ]
        }
      ]
    },
    {
      "cell_type": "code",
      "source": [
        "# numpay reshape\n",
        "# initialise a 3 d array\n",
        "new_array=np.array(np.random.randint(10,45,(2,4,6)))\n",
        "print(f\"the defined array is \\n{new_array}\")\n",
        "print(f\"\\n the shape of the array is {new_array.shape}\")"
      ],
      "metadata": {
        "colab": {
          "base_uri": "https://localhost:8080/"
        },
        "id": "w2xfoLu8wIF2",
        "outputId": "55af5f24-df1e-4848-e452-bd829805f128"
      },
      "execution_count": 9,
      "outputs": [
        {
          "output_type": "stream",
          "name": "stdout",
          "text": [
            "the defined array is \n",
            "[[[11 43 27 15 32 39]\n",
            "  [18 40 14 37 23 39]\n",
            "  [23 16 21 18 22 15]\n",
            "  [22 12 43 23 13 39]]\n",
            "\n",
            " [[18 19 27 12 34 36]\n",
            "  [28 15 33 31 33 36]\n",
            "  [37 15 23 24 19 13]\n",
            "  [42 41 16 32 32 12]]]\n",
            "\n",
            " the shape of the array is (2, 4, 6)\n"
          ]
        }
      ]
    },
    {
      "cell_type": "code",
      "source": [
        "#np flatten\n",
        "#initialise a 3d array\n",
        "new_array=np.array(np.random.randint(10,45,(2,4,6)))\n",
        "print(f\"the  defined array is \\n{new_array}\")\n",
        "print(f\"\\n the shape of the array is {new_array.shape}\")\n"
      ],
      "metadata": {
        "colab": {
          "base_uri": "https://localhost:8080/"
        },
        "id": "oI1ZUH6QyOKj",
        "outputId": "49276ae9-b7b0-4a4e-c52d-8b53bf61415d"
      },
      "execution_count": 10,
      "outputs": [
        {
          "output_type": "stream",
          "name": "stdout",
          "text": [
            "the  defined array is \n",
            "[[[36 44 36 37 30 44]\n",
            "  [40 34 31 38 42 14]\n",
            "  [17 38 16 22 37 31]\n",
            "  [44 21 37 30 32 20]]\n",
            "\n",
            " [[34 33 42 29 36 14]\n",
            "  [31 22 33 16 40 19]\n",
            "  [41 38 29 31 21 17]\n",
            "  [29 23 25 11 13 19]]]\n",
            "\n",
            " the shape of the array is (2, 4, 6)\n"
          ]
        }
      ]
    }
  ]
}