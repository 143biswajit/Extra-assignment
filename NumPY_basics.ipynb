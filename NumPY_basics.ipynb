{
  "nbformat": 4,
  "nbformat_minor": 0,
  "metadata": {
    "colab": {
      "name": "NumPY basics",
      "provenance": [],
      "authorship_tag": "ABX9TyO7cjlQ6xQqXekNDbr8+91S",
      "include_colab_link": true
    },
    "kernelspec": {
      "name": "python3",
      "display_name": "Python 3"
    },
    "language_info": {
      "name": "python"
    }
  },
  "cells": [
    {
      "cell_type": "markdown",
      "metadata": {
        "id": "view-in-github",
        "colab_type": "text"
      },
      "source": [
        "<a href=\"https://colab.research.google.com/github/143biswajit/Extra-assignment/blob/main/NumPY_basics.ipynb\" target=\"_parent\"><img src=\"https://colab.research.google.com/assets/colab-badge.svg\" alt=\"Open In Colab\"/></a>"
      ]
    },
    {
      "cell_type": "markdown",
      "source": [
        "BASICS OF NUMPY"
      ],
      "metadata": {
        "id": "RCp5g1SEm_jo"
      }
    },
    {
      "cell_type": "code",
      "source": [
        "# load the numpy\n",
        "import numpy as np"
      ],
      "metadata": {
        "id": "Txwq_UpOnNBD"
      },
      "execution_count": 2,
      "outputs": []
    },
    {
      "cell_type": "markdown",
      "source": [
        "Array manipulation\n",
        "    TRANSPOSE ARRAY"
      ],
      "metadata": {
        "id": "YO-BgxY8nnuQ"
      }
    },
    {
      "cell_type": "code",
      "source": [
        "\n",
        "#creat 2 d array\n",
        "bro=np.array(np.random.randint(15,60,(5,3)))\n",
        "print(f\"the defind array is \\n{bro}\")\n",
        "print(f\"\\n the shape of the array is {bro.shape}\")\n"
      ],
      "metadata": {
        "colab": {
          "base_uri": "https://localhost:8080/"
        },
        "id": "BO-G9Bl-nwsd",
        "outputId": "2395dc6b-f487-40b1-e033-db863c434878"
      },
      "execution_count": 3,
      "outputs": [
        {
          "output_type": "stream",
          "name": "stdout",
          "text": [
            "the defind array is \n",
            "[[37 27 16]\n",
            " [39 57 52]\n",
            " [31 58 47]\n",
            " [57 47 26]\n",
            " [40 50 27]]\n",
            "\n",
            " the shape of the array is (5, 3)\n"
          ]
        }
      ]
    },
    {
      "cell_type": "code",
      "source": [
        "# transpose array in another martrix\n",
        "ajit_bro=np.transpose(bro)\n",
        "print(f\" the transpose of the array is \\n{ajit_bro}\")\n",
        "print(\" \\n the shape of the array is {ajit_bro}\")\n"
      ],
      "metadata": {
        "colab": {
          "base_uri": "https://localhost:8080/"
        },
        "id": "QOlAZ6lTsxzk",
        "outputId": "16ebd09e-243e-488f-d710-26cfa37be49e"
      },
      "execution_count": 4,
      "outputs": [
        {
          "output_type": "stream",
          "name": "stdout",
          "text": [
            " the transpose of the array is \n",
            "[[37 39 31 57 40]\n",
            " [27 57 58 47 50]\n",
            " [16 52 47 26 27]]\n",
            " \n",
            " the shape of the array is {ajit_bro}\n"
          ]
        }
      ]
    },
    {
      "cell_type": "markdown",
      "source": [
        "np.reshape(shape)"
      ],
      "metadata": {
        "id": "wpwQtWUkrKbB"
      }
    },
    {
      "cell_type": "code",
      "source": [
        "# creat a two dimentional array\n",
        "boss_=np.array(np.random.randint(10,45,(3,8)))\n",
        "print(f\"the defined array is \\n{boss_}\")\n",
        "print(f\"\\n the shape of the array is {boss_.shape}\")"
      ],
      "metadata": {
        "colab": {
          "base_uri": "https://localhost:8080/"
        },
        "id": "AeNhhU8srHz3",
        "outputId": "182b9c35-9748-4090-ba13-6b1cdf0f89cb"
      },
      "execution_count": 24,
      "outputs": [
        {
          "output_type": "stream",
          "name": "stdout",
          "text": [
            "the defined array is \n",
            "[[23 14 36 34 17 38 18 11]\n",
            " [20 18 40 12 31 35 34 28]\n",
            " [32 21 17 36 18 17 38 38]]\n",
            "\n",
            " the shape of the array is (3, 8)\n"
          ]
        }
      ]
    },
    {
      "cell_type": "code",
      "source": [
        "# now we can reshape  this to 1d ,2d,3d array\n",
        "new_shape= (2,6,2)\n",
        "reshaped_boss_=np.reshape(boss_,new_shape)\n",
        "print(f\"the reshaped array is \\n{reshaped_boss_}\")\n",
        "print(f\"\\n the shape of the array is {reshaped_boss_.shape}\")"
      ],
      "metadata": {
        "colab": {
          "base_uri": "https://localhost:8080/"
        },
        "id": "HL_2SW0MxHlN",
        "outputId": "390a2d9c-d1b0-4662-e09a-0943e6de003a"
      },
      "execution_count": 25,
      "outputs": [
        {
          "output_type": "stream",
          "name": "stdout",
          "text": [
            "the reshaped array is \n",
            "[[[23 14]\n",
            "  [36 34]\n",
            "  [17 38]\n",
            "  [18 11]\n",
            "  [20 18]\n",
            "  [40 12]]\n",
            "\n",
            " [[31 35]\n",
            "  [34 28]\n",
            "  [32 21]\n",
            "  [17 36]\n",
            "  [18 17]\n",
            "  [38 38]]]\n",
            "\n",
            " the shape of the array is (2, 6, 2)\n"
          ]
        }
      ]
    }
  ]
}